{
 "metadata": {
  "language_info": {
   "codemirror_mode": {
    "name": "ipython",
    "version": 3
   },
   "file_extension": ".py",
   "mimetype": "text/x-python",
   "name": "python",
   "nbconvert_exporter": "python",
   "pygments_lexer": "ipython3",
   "version": "3.8.3-final"
  },
  "orig_nbformat": 2,
  "kernelspec": {
   "name": "python3",
   "display_name": "Python 3",
   "language": "python"
  }
 },
 "nbformat": 4,
 "nbformat_minor": 2,
 "cells": [
  {
   "cell_type": "code",
   "execution_count": 1,
   "metadata": {},
   "outputs": [],
   "source": [
    "\"\"\"Machine learning functions\"\"\"\n",
    "\n",
    "import logging\n",
    "import json\n",
    "import joblib\n",
    "import random\n",
    "import pandas as pd\n",
    "from pydantic import BaseModel, Field, validator\n",
    "from sklearn.neighbors import NearestNeighbors\n",
    "\n"
   ]
  },
  {
   "cell_type": "code",
   "execution_count": 2,
   "metadata": {},
   "outputs": [],
   "source": [
    "\n",
    "class User(BaseModel):\n",
    "    \"\"\"Use this data model to parse the request body JSON.\"\"\"\n",
    "    user_input: str = Field(..., example=\n",
    "        \"\"\"I am having trouble sleeping, I'm stressed and I don't want to eat. I would like to have an appetite, sleep well, and be able to relax.\"\"\")\n"
   ]
  },
  {
   "cell_type": "code",
   "execution_count": 3,
   "metadata": {},
   "outputs": [],
   "source": [
    "a_user = User(user_input=\"I am having trouble sleeping, I'm stressed and I don't want to eat. I would like to have an appetite, sleep well, and be able to relax. I prefer sweet, citrus flavors.}\")"
   ]
  },
  {
   "cell_type": "code",
   "execution_count": 4,
   "metadata": {},
   "outputs": [],
   "source": [
    "from nltk.stem.snowball import SnowballStemmer\n",
    "sb = SnowballStemmer(\"english\")\n"
   ]
  },
  {
   "cell_type": "code",
   "execution_count": 5,
   "metadata": {},
   "outputs": [],
   "source": [
    "nn = joblib.load(r'C:\\Users\\whats\\DS_Unit_3\\Build\\best-buds\\app\\jl_knn.joblib')\n",
    "vectorizer = joblib.load(r'C:\\Users\\whats\\DS_Unit_3\\Build\\best-buds\\app\\jl_tfidf.joblib')\n",
    "\n",
    "MJ = pd.read_csv('https://raw.githubusercontent.com/tt-dspt-200/best-buds/main/data/MJ.csv')\n"
   ]
  },
  {
   "cell_type": "code",
   "execution_count": 10,
   "metadata": {},
   "outputs": [],
   "source": [
    "    model_food = vectorizer.transform([sb.stem(a_user.user_input)])\n",
    "    output = []\n",
    "    for word in a_user.user_input.split(): \n",
    "        output.append(\" \".join([sb.stem(word)]))\n",
    "    stemmed = \"\"\n",
    "    for item in output:\n",
    "        stemmed += item + \" \"\n",
    "    model_food = vectorizer.transform({stemmed})"
   ]
  },
  {
   "cell_type": "code",
   "execution_count": 11,
   "metadata": {},
   "outputs": [],
   "source": [
    "strain_name_list = []\n",
    "description_list = []\n",
    "strain_effects_list = []\n",
    "strain_ailments_list = []\n",
    "\n",
    "for i in range(5):\n",
    "    strain_name = (MJ.loc[nn.kneighbors(model_food.todense())[1][0][i]]['Strain']),\n",
    "    description = (MJ.loc[nn.kneighbors(model_food.todense())[1][0][i]]['Description']),\n",
    "    strain_effects = (MJ.loc[nn.kneighbors(model_food.todense())[1][0][i]]['Effects_y']),\n",
    "    strain_ailments = (MJ.loc[nn.kneighbors(model_food.todense())[1][0][i]]['Ailment'])\n",
    "    strain_name_list.append(strain_name),\n",
    "    description_list.append(description),\n",
    "    strain_effects_list.append(strain_effects),\n",
    "    strain_ailments_list.append(strain_ailments)\n",
    "\n"
   ]
  },
  {
   "cell_type": "code",
   "execution_count": 11,
   "metadata": {},
   "outputs": [
    {
     "output_type": "execute_result",
     "data": {
      "text/plain": [
       "                        name  \\\n",
       "0  (EAST COAST SOUR DIESEL,)   \n",
       "1             (NIGHT NURSE,)   \n",
       "2              (OGRE BERRY,)   \n",
       "3                  (DJANGO,)   \n",
       "4           (BLACK DIAMOND,)   \n",
       "\n",
       "                                         description  \\\n",
       "0  (East Coast Sour Diesel is a fast-acting attit...   \n",
       "1  (Night Nurse is an indica-dominant strain from...   \n",
       "2  (Ogre Berry is an indica-dominant strain culti...   \n",
       "3  (Django means “I awake,” in Romani, and this u...   \n",
       "4  (Black Diamond is a Northern California strain...   \n",
       "\n",
       "                                             effects  \\\n",
       "0  (Happy, Focused, Energetic, Uplifted, Euphoric...   \n",
       "1  (Relaxed, Sleepy, Happy, Tingly, Hungry, Dry M...   \n",
       "2  (Focused, Relaxed, Happy, Sleepy, Euphoric, Dr...   \n",
       "3  (Energetic, Uplifted, Happy, Talkative, Euphor...   \n",
       "4  (Relaxed, Happy, Euphoric, Hungry, Uplifted, D...   \n",
       "\n",
       "                                            ailments  \n",
       "0  Muscle Spasms, Stress, Pain, Depression, Infla...  \n",
       "1              Pain, Insomnia, Stress, Muscle Spasms  \n",
       "2  Stress, Lack of Appetite, Insomnia, Pain, Depr...  \n",
       "3        Stress, Depression, Insomnia, Muscle Spasms  \n",
       "4   Stress, Pain, Insomnia, Depression, Inflammation  "
      ],
      "text/html": "<div>\n<style scoped>\n    .dataframe tbody tr th:only-of-type {\n        vertical-align: middle;\n    }\n\n    .dataframe tbody tr th {\n        vertical-align: top;\n    }\n\n    .dataframe thead th {\n        text-align: right;\n    }\n</style>\n<table border=\"1\" class=\"dataframe\">\n  <thead>\n    <tr style=\"text-align: right;\">\n      <th></th>\n      <th>name</th>\n      <th>description</th>\n      <th>effects</th>\n      <th>ailments</th>\n    </tr>\n  </thead>\n  <tbody>\n    <tr>\n      <th>0</th>\n      <td>(EAST COAST SOUR DIESEL,)</td>\n      <td>(East Coast Sour Diesel is a fast-acting attit...</td>\n      <td>(Happy, Focused, Energetic, Uplifted, Euphoric...</td>\n      <td>Muscle Spasms, Stress, Pain, Depression, Infla...</td>\n    </tr>\n    <tr>\n      <th>1</th>\n      <td>(NIGHT NURSE,)</td>\n      <td>(Night Nurse is an indica-dominant strain from...</td>\n      <td>(Relaxed, Sleepy, Happy, Tingly, Hungry, Dry M...</td>\n      <td>Pain, Insomnia, Stress, Muscle Spasms</td>\n    </tr>\n    <tr>\n      <th>2</th>\n      <td>(OGRE BERRY,)</td>\n      <td>(Ogre Berry is an indica-dominant strain culti...</td>\n      <td>(Focused, Relaxed, Happy, Sleepy, Euphoric, Dr...</td>\n      <td>Stress, Lack of Appetite, Insomnia, Pain, Depr...</td>\n    </tr>\n    <tr>\n      <th>3</th>\n      <td>(DJANGO,)</td>\n      <td>(Django means “I awake,” in Romani, and this u...</td>\n      <td>(Energetic, Uplifted, Happy, Talkative, Euphor...</td>\n      <td>Stress, Depression, Insomnia, Muscle Spasms</td>\n    </tr>\n    <tr>\n      <th>4</th>\n      <td>(BLACK DIAMOND,)</td>\n      <td>(Black Diamond is a Northern California strain...</td>\n      <td>(Relaxed, Happy, Euphoric, Hungry, Uplifted, D...</td>\n      <td>Stress, Pain, Insomnia, Depression, Inflammation</td>\n    </tr>\n  </tbody>\n</table>\n</div>"
     },
     "metadata": {},
     "execution_count": 11
    }
   ],
   "source": [
    "strain_df = pd.DataFrame([strain_name_list, description_list, strain_effects_list, strain_ailments_list], index = ['name', 'description', 'effects', 'ailments'],).T\n",
    "# strain_df = pd.DataFrame([strain_name_list, strain_ailments_list], index = ['name',  'ailments']).T\n",
    "strain_df"
   ]
  },
  {
   "cell_type": "code",
   "execution_count": 12,
   "metadata": {},
   "outputs": [
    {
     "output_type": "execute_result",
     "data": {
      "text/plain": [
       "              name                                        description  \\\n",
       "0    (OGRE BERRY,)  (Ogre Berry is an indica-dominant strain culti...   \n",
       "1      (SUPA DON,)  (Supa Don is a 70% sativa strain bred from Ore...   \n",
       "2  (GREEN POISON,)  (Green Poison is a dangerously flavorful indic...   \n",
       "3    (BLUE ALIEN,)  (Blue Alien is a powerful, sweet-smelling indi...   \n",
       "4      (SUNSHINE,)  (Sunshine is a sativa-dominant cannabis strain...   \n",
       "\n",
       "                                             effects  \\\n",
       "0  (Focused, Relaxed, Happy, Sleepy, Euphoric, Dr...   \n",
       "1  (Uplifted, Creative, Energetic, Focused, Happy...   \n",
       "2  (Relaxed, Happy, Hungry, Euphoric, Sleepy, Dry...   \n",
       "3  (Relaxed, Euphoric, Sleepy, Hungry, Happy, Dry...   \n",
       "4  (Uplifted, Energetic, Happy, Euphoric, Creativ...   \n",
       "\n",
       "                                            ailments  \n",
       "0  Stress, Lack of Appetite, Insomnia, Pain, Depr...  \n",
       "1                       Depression, Insomnia, Stress  \n",
       "2  Stress, Lack of Appetite, Muscle Spasms, Insom...  \n",
       "3               Pain, Stress, Insomnia, Inflammation  \n",
       "4                   Stress, Depression, Pain, Nausea  "
      ],
      "text/html": "<div>\n<style scoped>\n    .dataframe tbody tr th:only-of-type {\n        vertical-align: middle;\n    }\n\n    .dataframe tbody tr th {\n        vertical-align: top;\n    }\n\n    .dataframe thead th {\n        text-align: right;\n    }\n</style>\n<table border=\"1\" class=\"dataframe\">\n  <thead>\n    <tr style=\"text-align: right;\">\n      <th></th>\n      <th>name</th>\n      <th>description</th>\n      <th>effects</th>\n      <th>ailments</th>\n    </tr>\n  </thead>\n  <tbody>\n    <tr>\n      <th>0</th>\n      <td>(OGRE BERRY,)</td>\n      <td>(Ogre Berry is an indica-dominant strain culti...</td>\n      <td>(Focused, Relaxed, Happy, Sleepy, Euphoric, Dr...</td>\n      <td>Stress, Lack of Appetite, Insomnia, Pain, Depr...</td>\n    </tr>\n    <tr>\n      <th>1</th>\n      <td>(SUPA DON,)</td>\n      <td>(Supa Don is a 70% sativa strain bred from Ore...</td>\n      <td>(Uplifted, Creative, Energetic, Focused, Happy...</td>\n      <td>Depression, Insomnia, Stress</td>\n    </tr>\n    <tr>\n      <th>2</th>\n      <td>(GREEN POISON,)</td>\n      <td>(Green Poison is a dangerously flavorful indic...</td>\n      <td>(Relaxed, Happy, Hungry, Euphoric, Sleepy, Dry...</td>\n      <td>Stress, Lack of Appetite, Muscle Spasms, Insom...</td>\n    </tr>\n    <tr>\n      <th>3</th>\n      <td>(BLUE ALIEN,)</td>\n      <td>(Blue Alien is a powerful, sweet-smelling indi...</td>\n      <td>(Relaxed, Euphoric, Sleepy, Hungry, Happy, Dry...</td>\n      <td>Pain, Stress, Insomnia, Inflammation</td>\n    </tr>\n    <tr>\n      <th>4</th>\n      <td>(SUNSHINE,)</td>\n      <td>(Sunshine is a sativa-dominant cannabis strain...</td>\n      <td>(Uplifted, Energetic, Happy, Euphoric, Creativ...</td>\n      <td>Stress, Depression, Pain, Nausea</td>\n    </tr>\n  </tbody>\n</table>\n</div>"
     },
     "metadata": {},
     "execution_count": 12
    }
   ],
   "source": [
    "strain_df = pd.DataFrame([strain_name_list, description_list, strain_effects_list, strain_ailments_list], index = ['name', 'description', 'effects', 'ailments'],).T\n",
    "# strain_df = pd.DataFrame([strain_name_list, strain_ailments_list], index = ['name',  'ailments']).T\n",
    "strain_df\n"
   ]
  },
  {
   "cell_type": "code",
   "execution_count": 13,
   "metadata": {},
   "outputs": [
    {
     "output_type": "execute_result",
     "data": {
      "text/plain": [
       "name           object\n",
       "description    object\n",
       "effects        object\n",
       "ailments       object\n",
       "dtype: object"
      ]
     },
     "metadata": {},
     "execution_count": 13
    }
   ],
   "source": [
    "strain_df.dtypes"
   ]
  },
  {
   "cell_type": "code",
   "execution_count": 14,
   "metadata": {},
   "outputs": [
    {
     "output_type": "execute_result",
     "data": {
      "text/plain": [
       "name           object\n",
       "description    object\n",
       "effects        object\n",
       "ailments       string\n",
       "dtype: object"
      ]
     },
     "metadata": {},
     "execution_count": 14
    }
   ],
   "source": [
    "df =strain_df.convert_dtypes()\n",
    "df.dtypes"
   ]
  },
  {
   "cell_type": "code",
   "execution_count": 16,
   "metadata": {},
   "outputs": [
    {
     "output_type": "execute_result",
     "data": {
      "text/plain": [
       "'[{\"name\":[\"OGRE BERRY\"],\"description\":[\"Ogre Berry is an indica-dominant strain cultivated in the highlands of Northern Mendocino County by HappyDay Farms. Combining Ogre with Island Strawberry Afghani Indica, Ogre Berry regularly tests between 24-28% THC and offers potent relief to aches and pains. Heavy euphoria blankets the mind with sensations of calm relaxation, and while these effects come with great medicinal potential, you may want to set this strain aside when faced with a busy day or cognitive tasks. Sweet citrus flavors meet a fuel-like skunk aroma, creating a sweet and sour fusion to be enjoyed by terpene enthusiasts.\"],\"effects\":[\"Focused, Relaxed, Happy, Sleepy, Euphoric, Dry Mouth, Paranoid\"],\"ailments\":\"Stress, Lack of Appetite, Insomnia, Pain, Depression\"},{\"name\":[\"SUPA DON\"],\"description\":[\"Supa Don is a 70% sativa strain bred from Oregon Trainwreck (also called \\\\u201cThe Don\\\\u201d) and DJ Short Blueberry. Its dark, forest green buds carry a distinct blueberry aroma and a heavy coat of crystal resin. Due to the high amount of the terpene beta-caryophyllene, Supa Don is known to calm anxieties while lifting depression.\\\\u00a0\"],\"effects\":[\"Uplifted, Creative, Energetic, Focused, Happy, Dry Mouth, Paranoid\"],\"ailments\":\"Depression, Insomnia, Stress\"},{\"name\":[\"GREEN POISON\"],\"description\":[\"Green Poison is a dangerously flavorful indica cross championed by Sweet Seeds. It pulls you in with a fruity and floral aroma, then delivers a potent dose of euphoria and body-numbing relaxation. Don\\\\u2019t be fooled by the lethal name: the only thing Green Poison kills is pain, insomnia, muscle spasms, and appetite loss. Growers should bear in mind that Green Poison is particularly susceptible to fungi, but those up to the challenge will want to wait 7 weeks for this indica to finish flowering indoors or near the end of September outside.\"],\"effects\":[\"Relaxed, Happy, Hungry, Euphoric, Sleepy, Dry Mouth, Paranoid\"],\"ailments\":\"Stress, Lack of Appetite, Muscle Spasms, Insomnia, Pain\"},{\"name\":[\"BLUE ALIEN\"],\"description\":[\"Blue Alien is a powerful, sweet-smelling indica strain that combines genetics from Blueberry and Alien Kush. Like most Blueberry hybrids, Blue Alien takes on a sweet berry aroma that introduces its dreamy euphoria and full-body calm. Because its effects tend toward the sleepier side of the spectrum, most consumers prefer Blue Alien in the evening and when pursuing a good night\\\\u2019s sleep.\\\\u00a0\"],\"effects\":[\"Relaxed, Euphoric, Sleepy, Hungry, Happy, Dry Mouth, Paranoid, Anxious\"],\"ailments\":\"Pain, Stress, Insomnia, Inflammation\"},{\"name\":[\"SUNSHINE\"],\"description\":[\"Sunshine is a sativa-dominant cannabis strain produced by the Canadian LP Peace Naturals Project. With a name like Sunshine, you could probably guess that this sativa promises blissful, happy, uplifted effects even on rainy, dark days. The sweet fruity and citrus flavors run with Sunshine\\\\u2019s tropical theme, taking you to a warm place where pain, nausea, and appetite loss don\\\\u2019t exist. \\\\u00a0\"],\"effects\":[\"Uplifted, Energetic, Happy, Euphoric, Creative, Anxious, Dry Mouth\"],\"ailments\":\"Stress, Depression, Pain, Nausea\"}]'"
      ]
     },
     "metadata": {},
     "execution_count": 16
    }
   ],
   "source": [
    "strain_json = strain_df.to_json(orient=\"records\")\n",
    "strain_json\n"
   ]
  },
  {
   "cell_type": "code",
   "execution_count": 17,
   "metadata": {},
   "outputs": [
    {
     "output_type": "execute_result",
     "data": {
      "text/plain": [
       "[{'name': ['OGRE BERRY'],\n",
       "  'description': ['Ogre Berry is an indica-dominant strain cultivated in the highlands of Northern Mendocino County by HappyDay Farms. Combining Ogre with Island Strawberry Afghani Indica, Ogre Berry regularly tests between 24-28% THC and offers potent relief to aches and pains. Heavy euphoria blankets the mind with sensations of calm relaxation, and while these effects come with great medicinal potential, you may want to set this strain aside when faced with a busy day or cognitive tasks. Sweet citrus flavors meet a fuel-like skunk aroma, creating a sweet and sour fusion to be enjoyed by terpene enthusiasts.'],\n",
       "  'effects': ['Focused, Relaxed, Happy, Sleepy, Euphoric, Dry Mouth, Paranoid'],\n",
       "  'ailments': 'Stress, Lack of Appetite, Insomnia, Pain, Depression'},\n",
       " {'name': ['SUPA DON'],\n",
       "  'description': ['Supa Don is a 70% sativa strain bred from Oregon Trainwreck (also called “The Don”) and DJ Short Blueberry. Its dark, forest green buds carry a distinct blueberry aroma and a heavy coat of crystal resin. Due to the high amount of the terpene beta-caryophyllene, Supa Don is known to calm anxieties while lifting depression.\\xa0'],\n",
       "  'effects': ['Uplifted, Creative, Energetic, Focused, Happy, Dry Mouth, Paranoid'],\n",
       "  'ailments': 'Depression, Insomnia, Stress'},\n",
       " {'name': ['GREEN POISON'],\n",
       "  'description': ['Green Poison is a dangerously flavorful indica cross championed by Sweet Seeds. It pulls you in with a fruity and floral aroma, then delivers a potent dose of euphoria and body-numbing relaxation. Don’t be fooled by the lethal name: the only thing Green Poison kills is pain, insomnia, muscle spasms, and appetite loss. Growers should bear in mind that Green Poison is particularly susceptible to fungi, but those up to the challenge will want to wait 7 weeks for this indica to finish flowering indoors or near the end of September outside.'],\n",
       "  'effects': ['Relaxed, Happy, Hungry, Euphoric, Sleepy, Dry Mouth, Paranoid'],\n",
       "  'ailments': 'Stress, Lack of Appetite, Muscle Spasms, Insomnia, Pain'},\n",
       " {'name': ['BLUE ALIEN'],\n",
       "  'description': ['Blue Alien is a powerful, sweet-smelling indica strain that combines genetics from Blueberry and Alien Kush. Like most Blueberry hybrids, Blue Alien takes on a sweet berry aroma that introduces its dreamy euphoria and full-body calm. Because its effects tend toward the sleepier side of the spectrum, most consumers prefer Blue Alien in the evening and when pursuing a good night’s sleep.\\xa0'],\n",
       "  'effects': ['Relaxed, Euphoric, Sleepy, Hungry, Happy, Dry Mouth, Paranoid, Anxious'],\n",
       "  'ailments': 'Pain, Stress, Insomnia, Inflammation'},\n",
       " {'name': ['SUNSHINE'],\n",
       "  'description': ['Sunshine is a sativa-dominant cannabis strain produced by the Canadian LP Peace Naturals Project. With a name like Sunshine, you could probably guess that this sativa promises blissful, happy, uplifted effects even on rainy, dark days. The sweet fruity and citrus flavors run with Sunshine’s tropical theme, taking you to a warm place where pain, nausea, and appetite loss don’t exist. \\xa0'],\n",
       "  'effects': ['Uplifted, Energetic, Happy, Euphoric, Creative, Anxious, Dry Mouth'],\n",
       "  'ailments': 'Stress, Depression, Pain, Nausea'}]"
      ]
     },
     "metadata": {},
     "execution_count": 17
    }
   ],
   "source": [
    "parsed = json.loads(strain_json)\n",
    "parsed\n"
   ]
  },
  {
   "cell_type": "code",
   "execution_count": 15,
   "metadata": {},
   "outputs": [
    {
     "output_type": "execute_result",
     "data": {
      "text/plain": [
       "'[{\"name\": [\"EAST COAST SOUR DIESEL\"], \"description\": [\"East Coast Sour Diesel is a fast-acting attitude lifter that patients love for its truly sativa effects. This strain has a sour lemon smell and taste that\\\\u2019s crisp and uplifting. East Coast Sour Diesel is powerful so new patients should be cautious. Those looking to alleviate anxiety or get some sleep may want to skip this high energy medicine.\"], \"effects\": [\"Happy, Focused, Energetic, Uplifted, Euphoric, Dry Mouth, Paranoid, Anxious\"], \"ailments\": \"Muscle Spasms, Stress, Pain, Depression, Inflammation\"}, {\"name\": [\"NIGHT NURSE\"], \"description\": [\"Night Nurse is an indica-dominant strain from Reeferman Seeds that combines genetics from BC Hash Plant, Harmony, and Fire OG. It\\\\u2019s commonly used to fight anxiety, stress, insomnia and chronic pain. Are you having trouble sleeping? This 80/20 indica provides a polite balance of relaxing cerebral and body effects, making this the perfect nighttime sleeping aid.\"], \"effects\": [\"Relaxed, Sleepy, Happy, Tingly, Hungry, Dry Mouth\"], \"ailments\": \"Pain, Insomnia, Stress, Muscle Spasms\"}, {\"name\": [\"OGRE BERRY\"], \"description\": [\"Ogre Berry is an indica-dominant strain cultivated in the highlands of Northern Mendocino County by HappyDay Farms. Combining Ogre with Island Strawberry Afghani Indica, Ogre Berry regularly tests between 24-28% THC and offers potent relief to aches and pains. Heavy euphoria blankets the mind with sensations of calm relaxation, and while these effects come with great medicinal potential, you may want to set this strain aside when faced with a busy day or cognitive tasks. Sweet citrus flavors meet a fuel-like skunk aroma, creating a sweet and sour fusion to be enjoyed by terpene enthusiasts.\"], \"effects\": [\"Focused, Relaxed, Happy, Sleepy, Euphoric, Dry Mouth, Paranoid\"], \"ailments\": \"Stress, Lack of Appetite, Insomnia, Pain, Depression\"}, {\"name\": [\"DJANGO\"], \"description\": [\"Django means \\\\u201cI awake,\\\\u201d in Romani, and this upbeat sativa will have you saying just that. Active and light, this strain\\\\u2019s effects might not be great for those looking for pain relief or strong relaxation. But if you want to lift your mood without losing energy, Django is just the thing.\\\\u00a0\"], \"effects\": [\"Energetic, Uplifted, Happy, Talkative, Euphoric, Dry Mouth, Anxious\"], \"ailments\": \"Stress, Depression, Insomnia, Muscle Spasms\"}]'"
      ]
     },
     "metadata": {},
     "execution_count": 15
    }
   ],
   "source": [
    "result = json.dumps(parsed)\n",
    "result"
   ]
  },
  {
   "cell_type": "code",
   "execution_count": null,
   "metadata": {},
   "outputs": [],
   "source": []
  }
 ]
}