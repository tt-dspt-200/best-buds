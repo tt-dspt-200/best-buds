{
 "metadata": {
  "language_info": {
   "codemirror_mode": {
    "name": "ipython",
    "version": 3
   },
   "file_extension": ".py",
   "mimetype": "text/x-python",
   "name": "python",
   "nbconvert_exporter": "python",
   "pygments_lexer": "ipython3",
   "version": "3.8.3-final"
  },
  "orig_nbformat": 2,
  "kernelspec": {
   "name": "python3",
   "display_name": "Python 3",
   "language": "python"
  }
 },
 "nbformat": 4,
 "nbformat_minor": 2,
 "cells": [
  {
   "cell_type": "code",
   "execution_count": 1,
   "metadata": {},
   "outputs": [],
   "source": [
    "\"\"\"Machine learning functions\"\"\"\n",
    "\n",
    "import logging\n",
    "import json\n",
    "import joblib\n",
    "import random\n",
    "import pandas as pd\n",
    "from pydantic import BaseModel, Field, validator\n",
    "from sklearn.neighbors import NearestNeighbors\n",
    "\n"
   ]
  },
  {
   "cell_type": "code",
   "execution_count": 2,
   "metadata": {},
   "outputs": [],
   "source": [
    "\n",
    "class User(BaseModel):\n",
    "    \"\"\"Use this data model to parse the request body JSON.\"\"\"\n",
    "    user_input: str = Field(..., example=\n",
    "        \"\"\"I am having trouble sleeping, I'm stressed and I don't want to eat. I would like to have an appetite, sleep well, and be able to relax.\"\"\")\n"
   ]
  },
  {
   "cell_type": "code",
   "execution_count": 3,
   "metadata": {},
   "outputs": [],
   "source": [
    "a_user = User(user_input='I want to have a appetite and be able to sleep. I do not like being tired, cranky and having no energy.')"
   ]
  },
  {
   "cell_type": "code",
   "execution_count": 4,
   "metadata": {},
   "outputs": [],
   "source": [
    "nn = joblib.load(r'C:\\Users\\whats\\DS_Unit_3\\Build\\best-buds\\app\\jl_knn.joblib')\n",
    "vectorizer = joblib.load(r'C:\\Users\\whats\\DS_Unit_3\\Build\\best-buds\\app\\jl_tfidf.joblib')\n",
    "\n",
    "MJ = pd.read_csv('https://raw.githubusercontent.com/tt-dspt-200/best-buds/main/data/MJ.csv')\n",
    "\n",
    "model_food = vectorizer.transform([a_user.user_input])"
   ]
  },
  {
   "cell_type": "code",
   "execution_count": 5,
   "metadata": {},
   "outputs": [],
   "source": [
    "strain_name_list = []\n",
    "description_list = []\n",
    "strain_effects_list = []\n",
    "strain_ailments_list = []\n",
    "\n",
    "for i in range(4):\n",
    "    strain_name = (MJ.loc[nn.kneighbors(model_food.todense())[1][0][i]]['Strain']),\n",
    "    description = (MJ.loc[nn.kneighbors(model_food.todense())[1][0][i]]['Description']),\n",
    "    strain_effects = (MJ.loc[nn.kneighbors(model_food.todense())[1][0][i]]['Effects_y']),\n",
    "    strain_ailments = (MJ.loc[nn.kneighbors(model_food.todense())[1][0][i]]['Ailment'])\n",
    "    strain_name_list.append(strain_name),\n",
    "    description_list.append(description),\n",
    "    strain_effects_list.append(strain_effects),\n",
    "    strain_ailments_list.append(strain_ailments)\n",
    "\n"
   ]
  },
  {
   "cell_type": "code",
   "execution_count": 6,
   "metadata": {},
   "outputs": [
    {
     "output_type": "execute_result",
     "data": {
      "text/plain": [
       "                        name  \\\n",
       "0  (EAST COAST SOUR DIESEL,)   \n",
       "1             (NIGHT NURSE,)   \n",
       "2              (OGRE BERRY,)   \n",
       "3                  (DJANGO,)   \n",
       "\n",
       "                                         description  \\\n",
       "0  (East Coast Sour Diesel is a fast-acting attit...   \n",
       "1  (Night Nurse is an indica-dominant strain from...   \n",
       "2  (Ogre Berry is an indica-dominant strain culti...   \n",
       "3  (Django means “I awake,” in Romani, and this u...   \n",
       "\n",
       "                                             effects  \\\n",
       "0  (Happy, Focused, Energetic, Uplifted, Euphoric...   \n",
       "1  (Relaxed, Sleepy, Happy, Tingly, Hungry, Dry M...   \n",
       "2  (Focused, Relaxed, Happy, Sleepy, Euphoric, Dr...   \n",
       "3  (Energetic, Uplifted, Happy, Talkative, Euphor...   \n",
       "\n",
       "                                            ailments  \n",
       "0  Muscle Spasms, Stress, Pain, Depression, Infla...  \n",
       "1              Pain, Insomnia, Stress, Muscle Spasms  \n",
       "2  Stress, Lack of Appetite, Insomnia, Pain, Depr...  \n",
       "3        Stress, Depression, Insomnia, Muscle Spasms  "
      ],
      "text/html": "<div>\n<style scoped>\n    .dataframe tbody tr th:only-of-type {\n        vertical-align: middle;\n    }\n\n    .dataframe tbody tr th {\n        vertical-align: top;\n    }\n\n    .dataframe thead th {\n        text-align: right;\n    }\n</style>\n<table border=\"1\" class=\"dataframe\">\n  <thead>\n    <tr style=\"text-align: right;\">\n      <th></th>\n      <th>name</th>\n      <th>description</th>\n      <th>effects</th>\n      <th>ailments</th>\n    </tr>\n  </thead>\n  <tbody>\n    <tr>\n      <th>0</th>\n      <td>(EAST COAST SOUR DIESEL,)</td>\n      <td>(East Coast Sour Diesel is a fast-acting attit...</td>\n      <td>(Happy, Focused, Energetic, Uplifted, Euphoric...</td>\n      <td>Muscle Spasms, Stress, Pain, Depression, Infla...</td>\n    </tr>\n    <tr>\n      <th>1</th>\n      <td>(NIGHT NURSE,)</td>\n      <td>(Night Nurse is an indica-dominant strain from...</td>\n      <td>(Relaxed, Sleepy, Happy, Tingly, Hungry, Dry M...</td>\n      <td>Pain, Insomnia, Stress, Muscle Spasms</td>\n    </tr>\n    <tr>\n      <th>2</th>\n      <td>(OGRE BERRY,)</td>\n      <td>(Ogre Berry is an indica-dominant strain culti...</td>\n      <td>(Focused, Relaxed, Happy, Sleepy, Euphoric, Dr...</td>\n      <td>Stress, Lack of Appetite, Insomnia, Pain, Depr...</td>\n    </tr>\n    <tr>\n      <th>3</th>\n      <td>(DJANGO,)</td>\n      <td>(Django means “I awake,” in Romani, and this u...</td>\n      <td>(Energetic, Uplifted, Happy, Talkative, Euphor...</td>\n      <td>Stress, Depression, Insomnia, Muscle Spasms</td>\n    </tr>\n  </tbody>\n</table>\n</div>"
     },
     "metadata": {},
     "execution_count": 6
    }
   ],
   "source": [
    "strain_df = pd.DataFrame([strain_name_list, description_list, strain_effects_list, strain_ailments_list], index = ['name', 'description', 'effects', 'ailments'],).T\n",
    "# strain_df = pd.DataFrame([strain_name_list, strain_ailments_list], index = ['name',  'ailments']).T\n",
    "strain_df\n"
   ]
  },
  {
   "cell_type": "code",
   "execution_count": 7,
   "metadata": {},
   "outputs": [
    {
     "output_type": "execute_result",
     "data": {
      "text/plain": [
       "name           object\n",
       "description    object\n",
       "effects        object\n",
       "ailments       object\n",
       "dtype: object"
      ]
     },
     "metadata": {},
     "execution_count": 7
    }
   ],
   "source": [
    "strain_df.dtypes"
   ]
  },
  {
   "cell_type": "code",
   "execution_count": 8,
   "metadata": {},
   "outputs": [
    {
     "output_type": "execute_result",
     "data": {
      "text/plain": [
       "name           object\n",
       "description    object\n",
       "effects        object\n",
       "ailments       string\n",
       "dtype: object"
      ]
     },
     "metadata": {},
     "execution_count": 8
    }
   ],
   "source": [
    "df =strain_df.convert_dtypes()\n",
    "df.dtypes"
   ]
  },
  {
   "cell_type": "code",
   "execution_count": 9,
   "metadata": {},
   "outputs": [
    {
     "output_type": "execute_result",
     "data": {
      "text/plain": [
       "'[{\"name\":[\"EAST COAST SOUR DIESEL\"],\"description\":[\"East Coast Sour Diesel is a fast-acting attitude lifter that patients love for its truly sativa effects. This strain has a sour lemon smell and taste that\\\\u2019s crisp and uplifting. East Coast Sour Diesel is powerful so new patients should be cautious. Those looking to alleviate anxiety or get some sleep may want to skip this high energy medicine.\"],\"effects\":[\"Happy, Focused, Energetic, Uplifted, Euphoric, Dry Mouth, Paranoid, Anxious\"],\"ailments\":\"Muscle Spasms, Stress, Pain, Depression, Inflammation\"},{\"name\":[\"NIGHT NURSE\"],\"description\":[\"Night Nurse is an indica-dominant strain from Reeferman Seeds that combines genetics from BC Hash Plant, Harmony, and Fire OG. It\\\\u2019s commonly used to fight anxiety, stress, insomnia and chronic pain. Are you having trouble sleeping? This 80\\\\/20 indica provides a polite balance of relaxing cerebral and body effects, making this the perfect nighttime sleeping aid.\"],\"effects\":[\"Relaxed, Sleepy, Happy, Tingly, Hungry, Dry Mouth\"],\"ailments\":\"Pain, Insomnia, Stress, Muscle Spasms\"},{\"name\":[\"OGRE BERRY\"],\"description\":[\"Ogre Berry is an indica-dominant strain cultivated in the highlands of Northern Mendocino County by HappyDay Farms. Combining Ogre with Island Strawberry Afghani Indica, Ogre Berry regularly tests between 24-28% THC and offers potent relief to aches and pains. Heavy euphoria blankets the mind with sensations of calm relaxation, and while these effects come with great medicinal potential, you may want to set this strain aside when faced with a busy day or cognitive tasks. Sweet citrus flavors meet a fuel-like skunk aroma, creating a sweet and sour fusion to be enjoyed by terpene enthusiasts.\"],\"effects\":[\"Focused, Relaxed, Happy, Sleepy, Euphoric, Dry Mouth, Paranoid\"],\"ailments\":\"Stress, Lack of Appetite, Insomnia, Pain, Depression\"},{\"name\":[\"DJANGO\"],\"description\":[\"Django means \\\\u201cI awake,\\\\u201d in Romani, and this upbeat sativa will have you saying just that. Active and light, this strain\\\\u2019s effects might not be great for those looking for pain relief or strong relaxation. But if you want to lift your mood without losing energy, Django is just the thing.\\\\u00a0\"],\"effects\":[\"Energetic, Uplifted, Happy, Talkative, Euphoric, Dry Mouth, Anxious\"],\"ailments\":\"Stress, Depression, Insomnia, Muscle Spasms\"}]'"
      ]
     },
     "metadata": {},
     "execution_count": 9
    }
   ],
   "source": [
    "strain_json = strain_df.to_json(orient=\"records\")\n",
    "strain_json\n"
   ]
  },
  {
   "cell_type": "code",
   "execution_count": 10,
   "metadata": {},
   "outputs": [
    {
     "output_type": "execute_result",
     "data": {
      "text/plain": [
       "[{'name': ['EAST COAST SOUR DIESEL'],\n",
       "  'description': ['East Coast Sour Diesel is a fast-acting attitude lifter that patients love for its truly sativa effects. This strain has a sour lemon smell and taste that’s crisp and uplifting. East Coast Sour Diesel is powerful so new patients should be cautious. Those looking to alleviate anxiety or get some sleep may want to skip this high energy medicine.'],\n",
       "  'effects': ['Happy, Focused, Energetic, Uplifted, Euphoric, Dry Mouth, Paranoid, Anxious'],\n",
       "  'ailments': 'Muscle Spasms, Stress, Pain, Depression, Inflammation'},\n",
       " {'name': ['NIGHT NURSE'],\n",
       "  'description': ['Night Nurse is an indica-dominant strain from Reeferman Seeds that combines genetics from BC Hash Plant, Harmony, and Fire OG. It’s commonly used to fight anxiety, stress, insomnia and chronic pain. Are you having trouble sleeping? This 80/20 indica provides a polite balance of relaxing cerebral and body effects, making this the perfect nighttime sleeping aid.'],\n",
       "  'effects': ['Relaxed, Sleepy, Happy, Tingly, Hungry, Dry Mouth'],\n",
       "  'ailments': 'Pain, Insomnia, Stress, Muscle Spasms'},\n",
       " {'name': ['OGRE BERRY'],\n",
       "  'description': ['Ogre Berry is an indica-dominant strain cultivated in the highlands of Northern Mendocino County by HappyDay Farms. Combining Ogre with Island Strawberry Afghani Indica, Ogre Berry regularly tests between 24-28% THC and offers potent relief to aches and pains. Heavy euphoria blankets the mind with sensations of calm relaxation, and while these effects come with great medicinal potential, you may want to set this strain aside when faced with a busy day or cognitive tasks. Sweet citrus flavors meet a fuel-like skunk aroma, creating a sweet and sour fusion to be enjoyed by terpene enthusiasts.'],\n",
       "  'effects': ['Focused, Relaxed, Happy, Sleepy, Euphoric, Dry Mouth, Paranoid'],\n",
       "  'ailments': 'Stress, Lack of Appetite, Insomnia, Pain, Depression'},\n",
       " {'name': ['DJANGO'],\n",
       "  'description': ['Django means “I awake,” in Romani, and this upbeat sativa will have you saying just that. Active and light, this strain’s effects might not be great for those looking for pain relief or strong relaxation. But if you want to lift your mood without losing energy, Django is just the thing.\\xa0'],\n",
       "  'effects': ['Energetic, Uplifted, Happy, Talkative, Euphoric, Dry Mouth, Anxious'],\n",
       "  'ailments': 'Stress, Depression, Insomnia, Muscle Spasms'}]"
      ]
     },
     "metadata": {},
     "execution_count": 10
    }
   ],
   "source": [
    "parsed = json.loads(strain_json)\n",
    "parsed\n"
   ]
  },
  {
   "cell_type": "code",
   "execution_count": 15,
   "metadata": {},
   "outputs": [
    {
     "output_type": "execute_result",
     "data": {
      "text/plain": [
       "'[{\"name\": [\"EAST COAST SOUR DIESEL\"], \"description\": [\"East Coast Sour Diesel is a fast-acting attitude lifter that patients love for its truly sativa effects. This strain has a sour lemon smell and taste that\\\\u2019s crisp and uplifting. East Coast Sour Diesel is powerful so new patients should be cautious. Those looking to alleviate anxiety or get some sleep may want to skip this high energy medicine.\"], \"effects\": [\"Happy, Focused, Energetic, Uplifted, Euphoric, Dry Mouth, Paranoid, Anxious\"], \"ailments\": \"Muscle Spasms, Stress, Pain, Depression, Inflammation\"}, {\"name\": [\"NIGHT NURSE\"], \"description\": [\"Night Nurse is an indica-dominant strain from Reeferman Seeds that combines genetics from BC Hash Plant, Harmony, and Fire OG. It\\\\u2019s commonly used to fight anxiety, stress, insomnia and chronic pain. Are you having trouble sleeping? This 80/20 indica provides a polite balance of relaxing cerebral and body effects, making this the perfect nighttime sleeping aid.\"], \"effects\": [\"Relaxed, Sleepy, Happy, Tingly, Hungry, Dry Mouth\"], \"ailments\": \"Pain, Insomnia, Stress, Muscle Spasms\"}, {\"name\": [\"OGRE BERRY\"], \"description\": [\"Ogre Berry is an indica-dominant strain cultivated in the highlands of Northern Mendocino County by HappyDay Farms. Combining Ogre with Island Strawberry Afghani Indica, Ogre Berry regularly tests between 24-28% THC and offers potent relief to aches and pains. Heavy euphoria blankets the mind with sensations of calm relaxation, and while these effects come with great medicinal potential, you may want to set this strain aside when faced with a busy day or cognitive tasks. Sweet citrus flavors meet a fuel-like skunk aroma, creating a sweet and sour fusion to be enjoyed by terpene enthusiasts.\"], \"effects\": [\"Focused, Relaxed, Happy, Sleepy, Euphoric, Dry Mouth, Paranoid\"], \"ailments\": \"Stress, Lack of Appetite, Insomnia, Pain, Depression\"}, {\"name\": [\"DJANGO\"], \"description\": [\"Django means \\\\u201cI awake,\\\\u201d in Romani, and this upbeat sativa will have you saying just that. Active and light, this strain\\\\u2019s effects might not be great for those looking for pain relief or strong relaxation. But if you want to lift your mood without losing energy, Django is just the thing.\\\\u00a0\"], \"effects\": [\"Energetic, Uplifted, Happy, Talkative, Euphoric, Dry Mouth, Anxious\"], \"ailments\": \"Stress, Depression, Insomnia, Muscle Spasms\"}]'"
      ]
     },
     "metadata": {},
     "execution_count": 15
    }
   ],
   "source": [
    "result = json.dumps(parsed)\n",
    "result"
   ]
  },
  {
   "cell_type": "code",
   "execution_count": null,
   "metadata": {},
   "outputs": [],
   "source": []
  }
 ]
}