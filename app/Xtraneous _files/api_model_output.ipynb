{
 "metadata": {
  "language_info": {
   "codemirror_mode": {
    "name": "ipython",
    "version": 3
   },
   "file_extension": ".py",
   "mimetype": "text/x-python",
   "name": "python",
   "nbconvert_exporter": "python",
   "pygments_lexer": "ipython3",
   "version": "3.8.3-final"
  },
  "orig_nbformat": 2,
  "kernelspec": {
   "name": "python3",
   "display_name": "Python 3",
   "language": "python"
  }
 },
 "nbformat": 4,
 "nbformat_minor": 2,
 "cells": [
  {
   "cell_type": "code",
   "execution_count": 34,
   "metadata": {},
   "outputs": [],
   "source": [
    "\"\"\"Machine learning functions\"\"\"\n",
    "\n",
    "import logging\n",
    "import json\n",
    "import joblib\n",
    "import random\n",
    "import pandas as pd\n",
    "from pydantic import BaseModel, Field, validator\n",
    "from sklearn.neighbors import NearestNeighbors\n",
    "\n"
   ]
  },
  {
   "cell_type": "code",
   "execution_count": 5,
   "metadata": {},
   "outputs": [],
   "source": [
    "\n",
    "class User(BaseModel):\n",
    "    \"\"\"Use this data model to parse the request body JSON.\"\"\"\n",
    "    user_input: str = Field(..., example=\n",
    "        \"\"\"I am having trouble sleeping, I'm stressed and I don't want to eat. I would like to have an appetite, sleep well, and be able to relax.\"\"\")\n",
    "\n",
    "\n"
   ]
  },
  {
   "cell_type": "code",
   "execution_count": 90,
   "metadata": {},
   "outputs": [],
   "source": [
    "a_user = User(user_input='I want to have a appetite and be able to sleep. I do not like being tired, cranky and having no energy.')"
   ]
  },
  {
   "cell_type": "code",
   "execution_count": 93,
   "metadata": {},
   "outputs": [],
   "source": [
    "nn = joblib.load(r'C:\\Users\\whats\\DS_Unit_3\\Build\\best-buds\\app\\jl_knn.joblib')\n",
    "vectorizer = joblib.load(r'C:\\Users\\whats\\DS_Unit_3\\Build\\best-buds\\app\\jl_tfidf.joblib')\n",
    "\n",
    "MJ = pd.read_csv('https://raw.githubusercontent.com/tt-dspt-200/best-buds/main/data/MJ.csv')\n",
    "\n",
    "model_food = vectorizer.transform([a_user.user_input])"
   ]
  },
  {
   "cell_type": "code",
   "execution_count": 94,
   "metadata": {},
   "outputs": [],
   "source": [
    "strain_name_list = []\n",
    "description_list = []\n",
    "strain_effects_list = []\n",
    "strain_ailments_list = []\n",
    "\n",
    "for i in range(4):\n",
    "    strain_name = (MJ.loc[nn.kneighbors(model_food.todense())[1][0][i]]['Strain']),\n",
    "    description = (MJ.loc[nn.kneighbors(model_food.todense())[1][0][i]]['Description']),\n",
    "    strain_effects = (MJ.loc[nn.kneighbors(model_food.todense())[1][0][i]]['Effects_y']),\n",
    "    strain_ailments = (MJ.loc[nn.kneighbors(model_food.todense())[1][0][i]]['Ailment'])\n",
    "    strain_name_list.append(strain_name),\n",
    "    description_list.append(description),\n",
    "    strain_effects_list.append(strain_effects),\n",
    "    strain_ailments_list.append(strain_ailments)\n",
    "\n"
   ]
  },
  {
   "cell_type": "code",
   "execution_count": 95,
   "metadata": {},
   "outputs": [
    {
     "output_type": "execute_result",
     "data": {
      "text/plain": [
       "                        name  \\\n",
       "0  (EAST COAST SOUR DIESEL,)   \n",
       "1             (NIGHT NURSE,)   \n",
       "2              (OGRE BERRY,)   \n",
       "3                  (DJANGO,)   \n",
       "\n",
       "                                         description  \\\n",
       "0  (East Coast Sour Diesel is a fast-acting attit...   \n",
       "1  (Night Nurse is an indica-dominant strain from...   \n",
       "2  (Ogre Berry is an indica-dominant strain culti...   \n",
       "3  (Django means “I awake,” in Romani, and this u...   \n",
       "\n",
       "                                             effects  \\\n",
       "0  (Happy, Focused, Energetic, Uplifted, Euphoric...   \n",
       "1  (Relaxed, Sleepy, Happy, Tingly, Hungry, Dry M...   \n",
       "2  (Focused, Relaxed, Happy, Sleepy, Euphoric, Dr...   \n",
       "3  (Energetic, Uplifted, Happy, Talkative, Euphor...   \n",
       "\n",
       "                                            ailments  \n",
       "0  Muscle Spasms, Stress, Pain, Depression, Infla...  \n",
       "1              Pain, Insomnia, Stress, Muscle Spasms  \n",
       "2  Stress, Lack of Appetite, Insomnia, Pain, Depr...  \n",
       "3        Stress, Depression, Insomnia, Muscle Spasms  "
      ],
      "text/html": "<div>\n<style scoped>\n    .dataframe tbody tr th:only-of-type {\n        vertical-align: middle;\n    }\n\n    .dataframe tbody tr th {\n        vertical-align: top;\n    }\n\n    .dataframe thead th {\n        text-align: right;\n    }\n</style>\n<table border=\"1\" class=\"dataframe\">\n  <thead>\n    <tr style=\"text-align: right;\">\n      <th></th>\n      <th>name</th>\n      <th>description</th>\n      <th>effects</th>\n      <th>ailments</th>\n    </tr>\n  </thead>\n  <tbody>\n    <tr>\n      <th>0</th>\n      <td>(EAST COAST SOUR DIESEL,)</td>\n      <td>(East Coast Sour Diesel is a fast-acting attit...</td>\n      <td>(Happy, Focused, Energetic, Uplifted, Euphoric...</td>\n      <td>Muscle Spasms, Stress, Pain, Depression, Infla...</td>\n    </tr>\n    <tr>\n      <th>1</th>\n      <td>(NIGHT NURSE,)</td>\n      <td>(Night Nurse is an indica-dominant strain from...</td>\n      <td>(Relaxed, Sleepy, Happy, Tingly, Hungry, Dry M...</td>\n      <td>Pain, Insomnia, Stress, Muscle Spasms</td>\n    </tr>\n    <tr>\n      <th>2</th>\n      <td>(OGRE BERRY,)</td>\n      <td>(Ogre Berry is an indica-dominant strain culti...</td>\n      <td>(Focused, Relaxed, Happy, Sleepy, Euphoric, Dr...</td>\n      <td>Stress, Lack of Appetite, Insomnia, Pain, Depr...</td>\n    </tr>\n    <tr>\n      <th>3</th>\n      <td>(DJANGO,)</td>\n      <td>(Django means “I awake,” in Romani, and this u...</td>\n      <td>(Energetic, Uplifted, Happy, Talkative, Euphor...</td>\n      <td>Stress, Depression, Insomnia, Muscle Spasms</td>\n    </tr>\n  </tbody>\n</table>\n</div>"
     },
     "metadata": {},
     "execution_count": 95
    }
   ],
   "source": [
    "strain_df = pd.DataFrame([strain_name_list, description_list, strain_effects_list, strain_ailments_list], index = ['name', 'description', 'effects', 'ailments'],).T\n",
    "# strain_df = pd.DataFrame([strain_name_list, strain_ailments_list], index = ['name',  'ailments']).T\n",
    "strain_df\n"
   ]
  },
  {
   "cell_type": "code",
   "execution_count": null,
   "metadata": {},
   "outputs": [],
   "source": [
    "strain_df.dtypes"
   ]
  },
  {
   "cell_type": "code",
   "execution_count": 81,
   "metadata": {},
   "outputs": [
    {
     "output_type": "execute_result",
     "data": {
      "text/plain": [
       "name           object\n",
       "description    object\n",
       "effects        object\n",
       "ailments       string\n",
       "dtype: object"
      ]
     },
     "metadata": {},
     "execution_count": 81
    }
   ],
   "source": [
    "df =strain_df.convert_dtypes()\n",
    "df.dtypes"
   ]
  },
  {
   "cell_type": "code",
   "execution_count": 58,
   "metadata": {},
   "outputs": [
    {
     "output_type": "execute_result",
     "data": {
      "text/plain": [
       "'[{\"name\":\"\\'PURPLE CHEDDAR\\',\",\"description\":\"\\'Purple Cheddar is the caved-aged cross of Cheese and Grandaddy Purple. This strain packs pungent, earthy dimensions that linger on the tongue after combustion and offers a nearly instant euphoria. Tertiary effects gently creep over the body and mind, allowing the consumer to stay happy, heady, and functional while indulging in a mid-level relaxation. This strain may lean more toward sedation with continued use, but can be utilized for stress relief, for mild aches and pain, and an general mood elevation. \\\\\\\\xa0\\',\",\"effects\":\"\\'Relaxed, Euphoric, Happy, Sleepy, Uplifted, Dry Mouth, Paranoid\\',\",\"ailments\":\"Pain, Insomnia, Inflammation, Muscle Spasms, Stress\"},{\"name\":\"\\'SOURLOPE\\',\",\"description\":\"\\'Sourlope is a sativa-dominant cross known for its uplifting and energetic effects. Believed to be a hybrid of NYC Diesel and Cannalope Haze genetics, Sourlope creates a mix of tropical flavors that are sharpened by a strong diesel note. The elevated mood and creative head space attributed to this strain make it a great choice for daytime use and when combating stress and fatigue.\\\\\\\\xa0\\',\",\"effects\":\"\\'Happy, Focused, Uplifted, Relaxed, Creative, Dry Mouth, Paranoid, Anxious\\',\",\"ailments\":\"Stress, Depression, Pain\"},{\"name\":\"\\'MILKY WAY\\',\",\"description\":\"\\'Milky Way is an 80\\\\/20 indica-dominant blend bred by Kiwiseeds. Named for the milky white trichomes that cover its buds and sugar leaves, Milky Way has a sweet aroma with flavors of sugar and spice. The effects are characterized as potent, relaxing, and full-bodied thanks to the heavy indica influence.\\',\",\"effects\":\"\\'Euphoric, Happy, Relaxed, Sleepy, Tingly, Dry Mouth, Paranoid\\',\",\"ailments\":\"Stress, Depression, Pain, Nausea\"},{\"name\":\"\\'BLUE KNIGHT\\',\",\"description\":\"\\'Blue Knight is a rare indica-dominant strain with a noble lineage that stems from Blueberry and Kryptonite genetics. Hues of royal purple twist with deep blues and vivid greens in a visual display as multifaceted as its berry, vanilla aroma. Earthy, woody, and blueberry flavors are unleashed on the exhale, and the relaxing full-body effects that follow are often enough to soothe pain and stimulate the appetite. \\\\\\\\xa0\\',\",\"effects\":\"\\'Relaxed, Uplifted, Happy, Sleepy, Euphoric, Dry Mouth, Paranoid, Anxious\\',\",\"ailments\":\"Stress, Pain, Depression, Lack of Appetite\"}]'"
      ]
     },
     "metadata": {},
     "execution_count": 58
    }
   ],
   "source": [
    "strain_json = strain_df.to_json(orient=\"records\")\n",
    "strain_json\n"
   ]
  },
  {
   "cell_type": "code",
   "execution_count": 59,
   "metadata": {},
   "outputs": [
    {
     "output_type": "execute_result",
     "data": {
      "text/plain": [
       "[{'name': \"'PURPLE CHEDDAR',\",\n",
       "  'description': \"'Purple Cheddar is the caved-aged cross of Cheese and Grandaddy Purple. This strain packs pungent, earthy dimensions that linger on the tongue after combustion and offers a nearly instant euphoria. Tertiary effects gently creep over the body and mind, allowing the consumer to stay happy, heady, and functional while indulging in a mid-level relaxation. This strain may lean more toward sedation with continued use, but can be utilized for stress relief, for mild aches and pain, and an general mood elevation. \\\\xa0',\",\n",
       "  'effects': \"'Relaxed, Euphoric, Happy, Sleepy, Uplifted, Dry Mouth, Paranoid',\",\n",
       "  'ailments': 'Pain, Insomnia, Inflammation, Muscle Spasms, Stress'},\n",
       " {'name': \"'SOURLOPE',\",\n",
       "  'description': \"'Sourlope is a sativa-dominant cross known for its uplifting and energetic effects. Believed to be a hybrid of NYC Diesel and Cannalope Haze genetics, Sourlope creates a mix of tropical flavors that are sharpened by a strong diesel note. The elevated mood and creative head space attributed to this strain make it a great choice for daytime use and when combating stress and fatigue.\\\\xa0',\",\n",
       "  'effects': \"'Happy, Focused, Uplifted, Relaxed, Creative, Dry Mouth, Paranoid, Anxious',\",\n",
       "  'ailments': 'Stress, Depression, Pain'},\n",
       " {'name': \"'MILKY WAY',\",\n",
       "  'description': \"'Milky Way is an 80/20 indica-dominant blend bred by Kiwiseeds. Named for the milky white trichomes that cover its buds and sugar leaves, Milky Way has a sweet aroma with flavors of sugar and spice. The effects are characterized as potent, relaxing, and full-bodied thanks to the heavy indica influence.',\",\n",
       "  'effects': \"'Euphoric, Happy, Relaxed, Sleepy, Tingly, Dry Mouth, Paranoid',\",\n",
       "  'ailments': 'Stress, Depression, Pain, Nausea'},\n",
       " {'name': \"'BLUE KNIGHT',\",\n",
       "  'description': \"'Blue Knight is a rare indica-dominant strain with a noble lineage that stems from Blueberry and Kryptonite genetics. Hues of royal purple twist with deep blues and vivid greens in a visual display as multifaceted as its berry, vanilla aroma. Earthy, woody, and blueberry flavors are unleashed on the exhale, and the relaxing full-body effects that follow are often enough to soothe pain and stimulate the appetite. \\\\xa0',\",\n",
       "  'effects': \"'Relaxed, Uplifted, Happy, Sleepy, Euphoric, Dry Mouth, Paranoid, Anxious',\",\n",
       "  'ailments': 'Stress, Pain, Depression, Lack of Appetite'}]"
      ]
     },
     "metadata": {},
     "execution_count": 59
    }
   ],
   "source": [
    "parsed = json.loads(strain_json)\n",
    "parsed\n"
   ]
  },
  {
   "cell_type": "code",
   "execution_count": 41,
   "metadata": {},
   "outputs": [],
   "source": [
    "result = json.dumps(parsed)"
   ]
  },
  {
   "cell_type": "code",
   "execution_count": 40,
   "metadata": {},
   "outputs": [
    {
     "output_type": "execute_result",
     "data": {
      "text/plain": [
       "'[{\"name\": \"\\'PURPLE CHEDDAR\\',\", \"ailments\": \"Pain, Insomnia, Inflammation, Muscle Spasms, Stress\"}, {\"name\": \"\\'SOURLOPE\\',\", \"ailments\": \"Stress, Depression, Pain\"}, {\"name\": \"\\'MILKY WAY\\',\", \"ailments\": \"Stress, Depression, Pain, Nausea\"}, {\"name\": \"\\'BLUE KNIGHT\\',\", \"ailments\": \"Stress, Pain, Depression, Lack of Appetite\"}]'"
      ]
     },
     "metadata": {},
     "execution_count": 40
    }
   ],
   "source": [
    "result"
   ]
  },
  {
   "cell_type": "code",
   "execution_count": 3,
   "metadata": {},
   "outputs": [],
   "source": [
    "answer = predict(a_user)"
   ]
  },
  {
   "cell_type": "code",
   "execution_count": null,
   "metadata": {},
   "outputs": [],
   "source": []
  },
  {
   "cell_type": "code",
   "execution_count": null,
   "metadata": {},
   "outputs": [],
   "source": [
    "strains = ['pot', 'good stuff', 'kite high', 'bored', 'npt', 'more stuff', 'chill', 'stressed']\n",
    "strains"
   ]
  },
  {
   "cell_type": "code",
   "execution_count": null,
   "metadata": {},
   "outputs": [],
   "source": [
    "# each sublist should have 4 elements \n",
    "n = 4\n",
    "   \n",
    "# using list comprehension  \n",
    "strain_lists = [strains[i:i + n] for i in range(0, len(strains), n)]  \n",
    "print(x) "
   ]
  },
  {
   "cell_type": "code",
   "execution_count": null,
   "metadata": {},
   "outputs": [],
   "source": [
    "    # df = pd.DataFrame(x, index = ['name', 'description', 'effects', 'ailments']).T\n",
    "    df = pd.DataFrame(answer, columns = ['name', 'description', 'effects', 'ailments'])\n",
    "    "
   ]
  },
  {
   "cell_type": "code",
   "execution_count": null,
   "metadata": {},
   "outputs": [],
   "source": [
    "result = df.to_json(orient=\"split\", index=False)\n",
    "result"
   ]
  },
  {
   "cell_type": "code",
   "execution_count": null,
   "metadata": {},
   "outputs": [],
   "source": [
    "import json\n",
    "# use list comprehension to break down strian info\n",
    "n = 4\n",
    "strain_list = [strains[i:i + n] for i in range(0, len(strains), n)]\n",
    "\n",
    "strain_df = pd.DataFrame(strain_list, columns = ['name', 'description', 'effects', 'ailments'])\n",
    "strain_json = strain_df.to_json(orient=\"split\", index=False)\n",
    "result = json.dumps(strain_json)"
   ]
  },
  {
   "cell_type": "code",
   "execution_count": null,
   "metadata": {},
   "outputs": [],
   "source": [
    "strain_json"
   ]
  },
  {
   "cell_type": "code",
   "execution_count": null,
   "metadata": {},
   "outputs": [],
   "source": [
    "result"
   ]
  },
  {
   "cell_type": "code",
   "execution_count": null,
   "metadata": {},
   "outputs": [],
   "source": []
  }
 ]
}