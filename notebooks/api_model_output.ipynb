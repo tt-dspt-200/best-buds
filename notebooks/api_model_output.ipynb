{
 "metadata": {
  "language_info": {
   "codemirror_mode": {
    "name": "ipython",
    "version": 3
   },
   "file_extension": ".py",
   "mimetype": "text/x-python",
   "name": "python",
   "nbconvert_exporter": "python",
   "pygments_lexer": "ipython3",
   "version": "3.8.3-final"
  },
  "orig_nbformat": 2,
  "kernelspec": {
   "name": "python3",
   "display_name": "Python 3",
   "language": "python"
  }
 },
 "nbformat": 4,
 "nbformat_minor": 2,
 "cells": [
  {
   "cell_type": "code",
   "execution_count": 13,
   "metadata": {},
   "outputs": [],
   "source": [
    "\"\"\"Machine learning functions\"\"\"\n",
    "\n",
    "import logging\n",
    "import joblib\n",
    "import random\n",
    "import pandas as pd\n",
    "\n",
    "from fastapi import APIRouter\n",
    "import pandas as pd\n",
    "from pydantic import BaseModel, Field, validator\n",
    "from sklearn.neighbors import NearestNeighbors\n",
    "\n",
    "\n",
    "\n",
    "log = logging.getLogger(__name__)\n",
    "router = APIRouter()\n",
    "\n",
    "class User(BaseModel):\n",
    "    \"\"\"Use this data model to parse the request body JSON.\"\"\"\n",
    "    user_input: str = Field(..., example=\n",
    "        \"\"\"I am having trouble sleeping, I'm stressed and I don't want to eat. I would like to have an appetite, sleep well, and be able to relax.\"\"\")\n",
    "\n",
    "\n",
    "    def to_df(self):\n",
    "        \"\"\"Convert pydantic object to pandas dataframe with 1 row.\"\"\"\n",
    "        return pd.DataFrame([dict(self)])\n",
    "\n",
    "\n",
    "@router.post('/predict')\n",
    "async def predict(user: User):\n",
    "    \"\"\"\n",
    "    Make random baseline predictions for classification problem 🔮\n",
    "\n",
    "    ### Request Body\n",
    "\n",
    "    - `user_input:`: string\n",
    "\n",
    "    ### Response\n",
    "    - `strain_name`: string\n",
    "    - `description`: string\n",
    "    - `strain_effects`: string\n",
    "    - `strain_ailments`: string\n",
    "    \"\"\"\n",
    "    \n",
    "    vectorizer = joblib.load('app/jl_tfidf.joblib')\n",
    "    nn = joblib.load('app/jl_knn.joblib')\n",
    "\n",
    "    MJ = pd.read_csv('data\\MJ.csv')\n",
    "\n",
    "    model_food = vectorizer.transform([user.user_input])\n",
    "\n",
    "    strains = []\n",
    "    for i in range(4):\n",
    "        strain_name = (MJ.loc[nn.kneighbors(model_food.todense())[1][0][i]]['Strain']),\n",
    "        description = (MJ.loc[nn.kneighbors(model_food.todense())[1][0][i]]['Description']),\n",
    "        strain_effects = (MJ.loc[nn.kneighbors(model_food.todense())[1][0][i]]['Effects_y']),\n",
    "        strain_ailments = (MJ.loc[nn.kneighbors(model_food.todense())[1][0][i]]['Ailment'])\n",
    "        strains.append(strain_name, description, strain_effects, strain_ailments)\n",
    "        return strains\n",
    "\n",
    "    df = pd.DataFrame(strains, columns = ['name', 'description', 'effects', 'ailments'])\n",
    "    result = df.to_json(orient=\"split\")\n",
    "    good_pot = json.dumps(result)\n",
    "    return {\n",
    "            good_pot\n",
    "    }"
   ]
  },
  {
   "cell_type": "code",
   "execution_count": 14,
   "metadata": {},
   "outputs": [],
   "source": [
    "a_user = User(user_input='icky, sore, lazy')"
   ]
  },
  {
   "cell_type": "code",
   "execution_count": 15,
   "metadata": {},
   "outputs": [],
   "source": [
    "answer = predict(a_user)"
   ]
  },
  {
   "cell_type": "code",
   "execution_count": 16,
   "metadata": {},
   "outputs": [
    {
     "output_type": "execute_result",
     "data": {
      "text/plain": [
       "'<coroutine object predict at 0x0000026755669140>'"
      ]
     },
     "metadata": {},
     "execution_count": 16
    }
   ],
   "source": [
    "str(answer)"
   ]
  },
  {
   "cell_type": "code",
   "execution_count": 29,
   "metadata": {},
   "outputs": [
    {
     "output_type": "execute_result",
     "data": {
      "text/plain": [
       "('pot',\n",
       " 'good stuff',\n",
       " 'kite high',\n",
       " 'bored',\n",
       " 'npt',\n",
       " 'more stuff',\n",
       " 'chill',\n",
       " 'stressed')"
      ]
     },
     "metadata": {},
     "execution_count": 29
    }
   ],
   "source": [
    "strains = ['pot', 'good stuff', 'kite high', 'bored', 'npt', 'more stuff', 'chill', 'stressed']\n",
    "strains"
   ]
  },
  {
   "cell_type": "code",
   "execution_count": 31,
   "metadata": {},
   "outputs": [
    {
     "output_type": "stream",
     "name": "stdout",
     "text": [
      "[('pot', 'good stuff', 'kite high', 'bored'), ('npt', 'more stuff', 'chill', 'stressed')]\n"
     ]
    }
   ],
   "source": [
    "# each sublist should have 4 elements \n",
    "n = 4\n",
    "   \n",
    "# using list comprehension  \n",
    "strain_lists = [strains[i:i + n] for i in range(0, len(strains), n)]  \n",
    "print(x) "
   ]
  },
  {
   "cell_type": "code",
   "execution_count": 37,
   "metadata": {},
   "outputs": [
    {
     "output_type": "execute_result",
     "data": {
      "text/plain": [
       "  name description    effects  ailments\n",
       "0  pot  good stuff  kite high     bored\n",
       "1  npt  more stuff      chill  stressed"
      ],
      "text/html": "<div>\n<style scoped>\n    .dataframe tbody tr th:only-of-type {\n        vertical-align: middle;\n    }\n\n    .dataframe tbody tr th {\n        vertical-align: top;\n    }\n\n    .dataframe thead th {\n        text-align: right;\n    }\n</style>\n<table border=\"1\" class=\"dataframe\">\n  <thead>\n    <tr style=\"text-align: right;\">\n      <th></th>\n      <th>name</th>\n      <th>description</th>\n      <th>effects</th>\n      <th>ailments</th>\n    </tr>\n  </thead>\n  <tbody>\n    <tr>\n      <th>0</th>\n      <td>pot</td>\n      <td>good stuff</td>\n      <td>kite high</td>\n      <td>bored</td>\n    </tr>\n    <tr>\n      <th>1</th>\n      <td>npt</td>\n      <td>more stuff</td>\n      <td>chill</td>\n      <td>stressed</td>\n    </tr>\n  </tbody>\n</table>\n</div>"
     },
     "metadata": {},
     "execution_count": 37
    }
   ],
   "source": [
    "    # df = pd.DataFrame(x, index = ['name', 'description', 'effects', 'ailments']).T\n",
    "    df = pd.DataFrame(strains_list, columns = ['name', 'description', 'effects', 'ailments'])\n",
    "    "
   ]
  },
  {
   "cell_type": "code",
   "execution_count": 40,
   "metadata": {},
   "outputs": [
    {
     "output_type": "execute_result",
     "data": {
      "text/plain": [
       "'{\"columns\":[\"name\",\"description\",\"effects\",\"ailments\"],\"data\":[[\"pot\",\"good stuff\",\"kite high\",\"bored\"],[\"npt\",\"more stuff\",\"chill\",\"stressed\"]]}'"
      ]
     },
     "metadata": {},
     "execution_count": 40
    }
   ],
   "source": [
    "result = df.to_json(orient=\"split\", index=False)\n",
    "result"
   ]
  },
  {
   "cell_type": "code",
   "execution_count": 48,
   "metadata": {},
   "outputs": [],
   "source": [
    "import json\n",
    "# use list comprehension to break down strian info\n",
    "n = 4\n",
    "strain_list = [strains[i:i + n] for i in range(0, len(strains), n)]\n",
    "\n",
    "strain_df = pd.DataFrame(strain_list, columns = ['name', 'description', 'effects', 'ailments'])\n",
    "strain_json = strain_df.to_json(orient=\"split\", index=False)\n",
    "result = json.dumps(strain_json)"
   ]
  },
  {
   "cell_type": "code",
   "execution_count": 50,
   "metadata": {},
   "outputs": [
    {
     "output_type": "execute_result",
     "data": {
      "text/plain": [
       "'{\"columns\":[\"name\",\"description\",\"effects\",\"ailments\"],\"data\":[[\"pot\",\"good stuff\",\"kite high\",\"bored\"],[\"npt\",\"more stuff\",\"chill\",\"stressed\"]]}'"
      ]
     },
     "metadata": {},
     "execution_count": 50
    }
   ],
   "source": [
    "strain_json"
   ]
  },
  {
   "cell_type": "code",
   "execution_count": 49,
   "metadata": {},
   "outputs": [
    {
     "output_type": "execute_result",
     "data": {
      "text/plain": [
       "'\"{\\\\\"columns\\\\\":[\\\\\"name\\\\\",\\\\\"description\\\\\",\\\\\"effects\\\\\",\\\\\"ailments\\\\\"],\\\\\"data\\\\\":[[\\\\\"pot\\\\\",\\\\\"good stuff\\\\\",\\\\\"kite high\\\\\",\\\\\"bored\\\\\"],[\\\\\"npt\\\\\",\\\\\"more stuff\\\\\",\\\\\"chill\\\\\",\\\\\"stressed\\\\\"]]}\"'"
      ]
     },
     "metadata": {},
     "execution_count": 49
    }
   ],
   "source": [
    "result"
   ]
  },
  {
   "cell_type": "code",
   "execution_count": null,
   "metadata": {},
   "outputs": [],
   "source": []
  }
 ]
}