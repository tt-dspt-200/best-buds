{
 "cells": [
  {
   "cell_type": "code",
   "execution_count": 24,
   "metadata": {},
   "outputs": [],
   "source": [
    "import pandas as pd\n",
    "import os\n"
   ]
  },
  {
   "cell_type": "code",
   "execution_count": 28,
   "metadata": {},
   "outputs": [],
   "source": [
    "# dirname = os.path.dirname(__file__)\n",
    "# filename = os.path.join(dirname, 'data\\MJ.csv')"
   ]
  },
  {
   "cell_type": "code",
   "execution_count": 29,
   "metadata": {},
   "outputs": [],
   "source": [
    "# os.getcwd()"
   ]
  },
  {
   "cell_type": "code",
   "execution_count": 30,
   "metadata": {},
   "outputs": [],
   "source": [
    "\n",
    "df = pd.read_csv(r'C:\\Users\\whats\\DS_Unit_3\\Build\\best-buds\\notebooks\\MJ.csv')"
   ]
  },
  {
   "cell_type": "code",
   "execution_count": 17,
   "metadata": {},
   "outputs": [
    {
     "output_type": "execute_result",
     "data": {
      "text/plain": [
       "     Strain    Type  Rating                                   Effects_x  \\\n",
       "0    100 OG  hybrid     4.0  Creative,Energetic,Tingly,Euphoric,Relaxed   \n",
       "1      1024  sativa     4.4   Uplifted,Happy,Relaxed,Energetic,Creative   \n",
       "2    303 OG  indica     4.2      Relaxed,Happy,Euphoric,Uplifted,Giggly   \n",
       "3    3D CBD  sativa     4.6    Uplifted,Focused,Happy,Talkative,Relaxed   \n",
       "4  3X CRAZY  indica     4.4      Relaxed,Tingly,Happy,Euphoric,Uplifted   \n",
       "\n",
       "                    Flavor                                        Description  \\\n",
       "0      Earthy,Sweet,Citrus  $100 OG is a 50/50 hybrid strain that packs a ...   \n",
       "1  Spicy/Herbal,Sage,Woody  1024 is a sativa-dominant hybrid bred in Spain...   \n",
       "2    Citrus,Pungent,Earthy  The indica-dominant 303 OG is a Colorado strai...   \n",
       "3     Earthy,Woody,Flowery  3D CBD from Snoop Dogg’s branded line of canna...   \n",
       "4       Earthy,Grape,Sweet  Also known as Optimus Prime, the indica-domina...   \n",
       "\n",
       "                                           Effects_y  \\\n",
       "0                                            Focused   \n",
       "1  Uplifted, Relaxed, Energetic, Creative, Dry Mo...   \n",
       "2  Relaxed, Happy, Focused, Hungry, Euphoric, Dry...   \n",
       "3  Relaxed, Happy, Uplifted, Sleepy, Tingly, Dry ...   \n",
       "4  Relaxed, Happy, Uplifted, Euphoric, Creative, ...   \n",
       "\n",
       "                                             Ailment  \n",
       "0                                         Depression  \n",
       "1             Stress, Pain, Depression, Inflammation  \n",
       "2                 Stress, Pain, Depression, Insomnia  \n",
       "3             Pain, Stress, Inflammation, Depression  \n",
       "4  Stress, Insomnia, Pain, Depression, Lack of Ap...  "
      ],
      "text/html": "<div>\n<style scoped>\n    .dataframe tbody tr th:only-of-type {\n        vertical-align: middle;\n    }\n\n    .dataframe tbody tr th {\n        vertical-align: top;\n    }\n\n    .dataframe thead th {\n        text-align: right;\n    }\n</style>\n<table border=\"1\" class=\"dataframe\">\n  <thead>\n    <tr style=\"text-align: right;\">\n      <th></th>\n      <th>Strain</th>\n      <th>Type</th>\n      <th>Rating</th>\n      <th>Effects_x</th>\n      <th>Flavor</th>\n      <th>Description</th>\n      <th>Effects_y</th>\n      <th>Ailment</th>\n    </tr>\n  </thead>\n  <tbody>\n    <tr>\n      <th>0</th>\n      <td>100 OG</td>\n      <td>hybrid</td>\n      <td>4.0</td>\n      <td>Creative,Energetic,Tingly,Euphoric,Relaxed</td>\n      <td>Earthy,Sweet,Citrus</td>\n      <td>$100 OG is a 50/50 hybrid strain that packs a ...</td>\n      <td>Focused</td>\n      <td>Depression</td>\n    </tr>\n    <tr>\n      <th>1</th>\n      <td>1024</td>\n      <td>sativa</td>\n      <td>4.4</td>\n      <td>Uplifted,Happy,Relaxed,Energetic,Creative</td>\n      <td>Spicy/Herbal,Sage,Woody</td>\n      <td>1024 is a sativa-dominant hybrid bred in Spain...</td>\n      <td>Uplifted, Relaxed, Energetic, Creative, Dry Mo...</td>\n      <td>Stress, Pain, Depression, Inflammation</td>\n    </tr>\n    <tr>\n      <th>2</th>\n      <td>303 OG</td>\n      <td>indica</td>\n      <td>4.2</td>\n      <td>Relaxed,Happy,Euphoric,Uplifted,Giggly</td>\n      <td>Citrus,Pungent,Earthy</td>\n      <td>The indica-dominant 303 OG is a Colorado strai...</td>\n      <td>Relaxed, Happy, Focused, Hungry, Euphoric, Dry...</td>\n      <td>Stress, Pain, Depression, Insomnia</td>\n    </tr>\n    <tr>\n      <th>3</th>\n      <td>3D CBD</td>\n      <td>sativa</td>\n      <td>4.6</td>\n      <td>Uplifted,Focused,Happy,Talkative,Relaxed</td>\n      <td>Earthy,Woody,Flowery</td>\n      <td>3D CBD from Snoop Dogg’s branded line of canna...</td>\n      <td>Relaxed, Happy, Uplifted, Sleepy, Tingly, Dry ...</td>\n      <td>Pain, Stress, Inflammation, Depression</td>\n    </tr>\n    <tr>\n      <th>4</th>\n      <td>3X CRAZY</td>\n      <td>indica</td>\n      <td>4.4</td>\n      <td>Relaxed,Tingly,Happy,Euphoric,Uplifted</td>\n      <td>Earthy,Grape,Sweet</td>\n      <td>Also known as Optimus Prime, the indica-domina...</td>\n      <td>Relaxed, Happy, Uplifted, Euphoric, Creative, ...</td>\n      <td>Stress, Insomnia, Pain, Depression, Lack of Ap...</td>\n    </tr>\n  </tbody>\n</table>\n</div>"
     },
     "metadata": {},
     "execution_count": 17
    }
   ],
   "source": [
    "df.head()"
   ]
  },
  {
   "cell_type": "code",
   "execution_count": null,
   "metadata": {},
   "outputs": [],
   "source": []
  }
 ],
 "metadata": {
  "kernelspec": {
   "display_name": "Python 3",
   "language": "python",
   "name": "python3"
  },
  "language_info": {
   "codemirror_mode": {
    "name": "ipython",
    "version": 3
   },
   "file_extension": ".py",
   "mimetype": "text/x-python",
   "name": "python",
   "nbconvert_exporter": "python",
   "pygments_lexer": "ipython3",
   "version": "3.8.3-final"
  }
 },
 "nbformat": 4,
 "nbformat_minor": 4
}